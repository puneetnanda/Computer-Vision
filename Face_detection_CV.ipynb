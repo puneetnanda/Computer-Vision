{
 "cells": [
  {
   "cell_type": "markdown",
   "metadata": {
    "colab_type": "text",
    "id": "VvWl3ebqzCc1"
   },
   "source": [
    "# Instructions\n",
    "- Some parts of the code are already done for you\n",
    "- You need to execute all the cells\n",
    "- You need to add the code where ever you see `\"#### Add your code here ####\"`\n",
    "- Marks are mentioned along with the cells"
   ]
  },
  {
   "cell_type": "markdown",
   "metadata": {
    "colab_type": "text",
    "id": "NgR0j5310qqC"
   },
   "source": [
    "# Face detection\n",
    "Task is to predict the boundaries(mask) around the face in a given image."
   ]
  },
  {
   "cell_type": "markdown",
   "metadata": {
    "colab_type": "text",
    "id": "Aa0jyJzw091I"
   },
   "source": [
    "## Dataset\n",
    "Faces in images marked with bounding boxes. Have around 500 images with around 1100 faces manually tagged via bounding box."
   ]
  },
  {
   "cell_type": "markdown",
   "metadata": {
    "colab_type": "text",
    "id": "CjRTlPkp1LC2"
   },
   "source": [
    "### Mount Google drive if you are using google colab\n",
    "- We recommend using Google Colab as you can face memory issues and longer runtimes while running on local"
   ]
  },
  {
   "cell_type": "code",
   "execution_count": null,
   "metadata": {
    "colab": {
     "base_uri": "https://localhost:8080/",
     "height": 121
    },
    "colab_type": "code",
    "executionInfo": {
     "elapsed": 28606,
     "status": "ok",
     "timestamp": 1576220100066,
     "user": {
      "displayName": "Puneet Nanda",
      "photoUrl": "",
      "userId": "14574570001926496505"
     },
     "user_tz": -330
    },
    "id": "sBWMoTJ9cf3Z",
    "outputId": "19ab4eba-9f20-4c63-e5ef-b9b07e6d6628"
   },
   "outputs": [],
   "source": [
    "from google.colab import drive\n",
    "drive.mount('/content/drive')"
   ]
  },
  {
   "cell_type": "markdown",
   "metadata": {
    "colab_type": "text",
    "id": "sO9mgMmp13sI"
   },
   "source": [
    "### Change current working directory to project folder (1 mark)"
   ]
  },
  {
   "cell_type": "code",
   "execution_count": null,
   "metadata": {
    "colab": {
     "base_uri": "https://localhost:8080/",
     "height": 34
    },
    "colab_type": "code",
    "executionInfo": {
     "elapsed": 930,
     "status": "ok",
     "timestamp": 1576220109810,
     "user": {
      "displayName": "Puneet Nanda",
      "photoUrl": "",
      "userId": "14574570001926496505"
     },
     "user_tz": -330
    },
    "id": "TddMnf4D1-59",
    "outputId": "e98534c3-afa3-4c02-9eeb-f09e84bfebfc"
   },
   "outputs": [],
   "source": [
    "import os\n",
    "#### Add your code here ####\n",
    "%cd /content/drive/My\\ Drive/GL\\ AIML/Project\\ 10\\ -\\  Face\\ Detection/"
   ]
  },
  {
   "cell_type": "markdown",
   "metadata": {
    "colab_type": "text",
    "id": "3srplE-FEpKa"
   },
   "source": [
    "### Load the \"images.npy\" file (2 marks)\n",
    "- This file contains images with details of bounding boxes"
   ]
  },
  {
   "cell_type": "code",
   "execution_count": 1,
   "metadata": {
    "colab": {},
    "colab_type": "code",
    "id": "MqFE_tZDf0sM"
   },
   "outputs": [],
   "source": [
    "import numpy as np\n",
    "%matplotlib inline\n",
    "data = np.load('images.npy', allow_pickle=True)"
   ]
  },
  {
   "cell_type": "code",
   "execution_count": 2,
   "metadata": {
    "colab": {
     "base_uri": "https://localhost:8080/",
     "height": 34
    },
    "colab_type": "code",
    "executionInfo": {
     "elapsed": 922,
     "status": "ok",
     "timestamp": 1576220135377,
     "user": {
      "displayName": "Puneet Nanda",
      "photoUrl": "",
      "userId": "14574570001926496505"
     },
     "user_tz": -330
    },
    "id": "qvd3MBaW42r6",
    "outputId": "72bdec40-f69e-47d4-ec8d-461aad7e637a"
   },
   "outputs": [
    {
     "data": {
      "text/plain": [
       "409"
      ]
     },
     "execution_count": 2,
     "metadata": {},
     "output_type": "execute_result"
    }
   ],
   "source": [
    "data.shape[0]"
   ]
  },
  {
   "cell_type": "markdown",
   "metadata": {
    "colab_type": "text",
    "id": "_SMP8zliFT7R"
   },
   "source": [
    "### Check one sample from the loaded \"images.npy\" file  (2 marks)"
   ]
  },
  {
   "cell_type": "code",
   "execution_count": 3,
   "metadata": {
    "colab": {
     "base_uri": "https://localhost:8080/",
     "height": 894
    },
    "colab_type": "code",
    "executionInfo": {
     "elapsed": 989,
     "status": "ok",
     "timestamp": 1576220137705,
     "user": {
      "displayName": "Puneet Nanda",
      "photoUrl": "",
      "userId": "14574570001926496505"
     },
     "user_tz": -330
    },
    "id": "NoqNvPK-iXqG",
    "outputId": "5f07b13a-aba7-4b34-e481-aa1ad47e2f94"
   },
   "outputs": [
    {
     "data": {
      "text/plain": [
       "array([array([[[207, 216, 227, 255],\n",
       "        [206, 216, 227, 255],\n",
       "        [207, 216, 227, 255],\n",
       "        ...,\n",
       "        [ 35,  33,  34, 255],\n",
       "        [ 35,  33,  34, 255],\n",
       "        [ 35,  33,  34, 255]],\n",
       "\n",
       "       [[207, 216, 227, 255],\n",
       "        [207, 216, 227, 255],\n",
       "        [207, 216, 227, 255],\n",
       "        ...,\n",
       "        [ 35,  32,  33, 255],\n",
       "        [ 35,  33,  34, 255],\n",
       "        [ 35,  33,  34, 255]],\n",
       "\n",
       "       [[207, 216, 227, 255],\n",
       "        [207, 216, 227, 255],\n",
       "        [207, 215, 227, 255],\n",
       "        ...,\n",
       "        [ 35,  33,  33, 255],\n",
       "        [ 35,  33,  34, 255],\n",
       "        [ 35,  33,  34, 255]],\n",
       "\n",
       "       ...,\n",
       "\n",
       "       [[ 31,  21,  17, 255],\n",
       "        [ 31,  22,  18, 255],\n",
       "        [ 31,  22,  18, 255],\n",
       "        ...,\n",
       "        [  0,   1,   4, 255],\n",
       "        [  0,   1,   4, 255],\n",
       "        [  0,   1,   4, 255]],\n",
       "\n",
       "       [[ 31,  22,  18, 255],\n",
       "        [ 31,  22,  18, 255],\n",
       "        [ 31,  22,  18, 255],\n",
       "        ...,\n",
       "        [  0,   1,   4, 255],\n",
       "        [  0,   1,   4, 255],\n",
       "        [  0,   1,   4, 255]],\n",
       "\n",
       "       [[ 31,  22,  18, 255],\n",
       "        [ 30,  22,  17, 255],\n",
       "        [ 31,  22,  18, 255],\n",
       "        ...,\n",
       "        [  0,   1,   4, 255],\n",
       "        [  0,   1,   4, 255],\n",
       "        [  0,   1,   4, 255]]], dtype=uint8),\n",
       "       list([{'label': ['Face'], 'notes': '', 'points': [{'x': 0.7053087757313109, 'y': 0.23260437375745527}, {'x': 0.7692307692307693, 'y': 0.36182902584493043}], 'imageWidth': 1280, 'imageHeight': 697}])],\n",
       "      dtype=object)"
      ]
     },
     "execution_count": 3,
     "metadata": {},
     "output_type": "execute_result"
    }
   ],
   "source": [
    "data[1]"
   ]
  },
  {
   "cell_type": "markdown",
   "metadata": {
    "colab_type": "text",
    "id": "m94G4p3CE5Cj"
   },
   "source": [
    "### Set image dimensions   (1 mark)\n",
    "- Initialize image height, image width with value: 224 "
   ]
  },
  {
   "cell_type": "code",
   "execution_count": 4,
   "metadata": {
    "colab": {},
    "colab_type": "code",
    "id": "kuZmtOASevDo"
   },
   "outputs": [],
   "source": [
    "IMAGE_WIDTH = 224\n",
    "IMAGE_HEIGHT = 224"
   ]
  },
  {
   "cell_type": "markdown",
   "metadata": {
    "colab_type": "text",
    "id": "wY6FEsCjG47s"
   },
   "source": [
    "### Create features and labels\n",
    "- Here feature is the image\n",
    "- The label is the mask\n",
    "- Images will be stored in \"X_train\" array\n",
    "- Masks will be stored in \"masks\" array"
   ]
  },
  {
   "cell_type": "code",
   "execution_count": 5,
   "metadata": {
    "colab": {},
    "colab_type": "code",
    "id": "XjCT9EVTgAvr"
   },
   "outputs": [],
   "source": [
    "import cv2\n",
    "from tensorflow.keras.applications.mobilenet import preprocess_input\n",
    "\n",
    "masks = np.zeros((int(data.shape[0]), IMAGE_HEIGHT, IMAGE_WIDTH))\n",
    "X_train = np.zeros((int(data.shape[0]), IMAGE_HEIGHT, IMAGE_WIDTH, 3))\n",
    "for index in range(data.shape[0]):\n",
    "    img = data[index][0]\n",
    "    img = cv2.resize(img, dsize=(IMAGE_HEIGHT, IMAGE_WIDTH), interpolation=cv2.INTER_CUBIC)\n",
    "    try:\n",
    "        img = img[:, :, :3]\n",
    "    except:\n",
    "        continue\n",
    "    X_train[index] = preprocess_input(np.array(img, dtype=np.float32))\n",
    "    for i in data[index][1]:\n",
    "        x1 = int(i[\"points\"][0]['x'] * IMAGE_WIDTH)\n",
    "        x2 = int(i[\"points\"][1]['x'] * IMAGE_WIDTH)\n",
    "        y1 = int(i[\"points\"][0]['y'] * IMAGE_HEIGHT)\n",
    "        y2 = int(i[\"points\"][1]['y'] * IMAGE_HEIGHT)\n",
    "        masks[index][y1:y2, x1:x2] = 1"
   ]
  },
  {
   "cell_type": "markdown",
   "metadata": {
    "colab_type": "text",
    "id": "N3AYbP79bFtJ"
   },
   "source": [
    "### Print the shape of X_train and mask array  (1 mark)"
   ]
  },
  {
   "cell_type": "code",
   "execution_count": 6,
   "metadata": {
    "colab": {
     "base_uri": "https://localhost:8080/",
     "height": 34
    },
    "colab_type": "code",
    "executionInfo": {
     "elapsed": 609,
     "status": "ok",
     "timestamp": 1576220174449,
     "user": {
      "displayName": "Puneet Nanda",
      "photoUrl": "",
      "userId": "14574570001926496505"
     },
     "user_tz": -330
    },
    "id": "3PIRaEdWIjDa",
    "outputId": "54aa0b0e-5309-47b0-f33a-749ffc637d10"
   },
   "outputs": [
    {
     "data": {
      "text/plain": [
       "(409, 224, 224, 3)"
      ]
     },
     "execution_count": 6,
     "metadata": {},
     "output_type": "execute_result"
    }
   ],
   "source": [
    "X_train.shape"
   ]
  },
  {
   "cell_type": "code",
   "execution_count": 7,
   "metadata": {
    "colab": {
     "base_uri": "https://localhost:8080/",
     "height": 34
    },
    "colab_type": "code",
    "executionInfo": {
     "elapsed": 747,
     "status": "ok",
     "timestamp": 1576220175683,
     "user": {
      "displayName": "Puneet Nanda",
      "photoUrl": "",
      "userId": "14574570001926496505"
     },
     "user_tz": -330
    },
    "id": "Gw6uH5DxgI_r",
    "outputId": "dc5a1702-1f9a-4b70-c79e-6fe0c626f1b0"
   },
   "outputs": [
    {
     "data": {
      "text/plain": [
       "(409, 224, 224)"
      ]
     },
     "execution_count": 7,
     "metadata": {},
     "output_type": "execute_result"
    }
   ],
   "source": [
    "masks.shape"
   ]
  },
  {
   "cell_type": "markdown",
   "metadata": {
    "colab_type": "text",
    "id": "R4wgkWq1bk5F"
   },
   "source": [
    "### Print a sample image and image array"
   ]
  },
  {
   "cell_type": "code",
   "execution_count": 8,
   "metadata": {
    "colab": {
     "base_uri": "https://localhost:8080/",
     "height": 1000
    },
    "colab_type": "code",
    "executionInfo": {
     "elapsed": 1286,
     "status": "ok",
     "timestamp": 1576220178089,
     "user": {
      "displayName": "Puneet Nanda",
      "photoUrl": "",
      "userId": "14574570001926496505"
     },
     "user_tz": -330
    },
    "id": "qfRZjQufj0N9",
    "outputId": "8a9f5f03-15ef-47ad-cc7f-5bd0ab839617"
   },
   "outputs": [
    {
     "name": "stderr",
     "output_type": "stream",
     "text": [
      "Clipping input data to the valid range for imshow with RGB data ([0..1] for floats or [0..255] for integers).\n"
     ]
    },
    {
     "name": "stdout",
     "output_type": "stream",
     "text": [
      "[[[-0.98431373 -0.98431373 -0.98431373]\n",
      "  [-0.98431373 -0.98431373 -0.98431373]\n",
      "  [-0.98431373 -0.98431373 -0.98431373]\n",
      "  ...\n",
      "  [-1.         -1.         -1.        ]\n",
      "  [-1.         -1.         -1.        ]\n",
      "  [-1.         -1.         -1.        ]]\n",
      "\n",
      " [[-0.98431373 -0.98431373 -0.98431373]\n",
      "  [-0.98431373 -0.98431373 -0.98431373]\n",
      "  [-0.98431373 -0.98431373 -0.98431373]\n",
      "  ...\n",
      "  [-1.         -1.         -1.        ]\n",
      "  [-1.         -1.         -1.        ]\n",
      "  [-1.         -1.         -1.        ]]\n",
      "\n",
      " [[-0.98431373 -0.98431373 -0.98431373]\n",
      "  [-0.98431373 -0.98431373 -0.98431373]\n",
      "  [-0.98431373 -0.98431373 -0.98431373]\n",
      "  ...\n",
      "  [-1.         -1.         -1.        ]\n",
      "  [-1.         -1.         -1.        ]\n",
      "  [-1.         -1.         -1.        ]]\n",
      "\n",
      " ...\n",
      "\n",
      " [[-1.         -1.         -1.        ]\n",
      "  [-1.         -1.         -1.        ]\n",
      "  [-1.         -1.         -1.        ]\n",
      "  ...\n",
      "  [-0.96862745 -0.96862745 -0.96862745]\n",
      "  [-0.96078432 -0.96078432 -0.96078432]\n",
      "  [-0.96078432 -0.96078432 -0.96078432]]\n",
      "\n",
      " [[-1.         -1.         -1.        ]\n",
      "  [-1.         -1.         -1.        ]\n",
      "  [-1.         -1.         -1.        ]\n",
      "  ...\n",
      "  [-0.96862745 -0.96862745 -0.96862745]\n",
      "  [-0.96078432 -0.96078432 -0.96078432]\n",
      "  [-0.95294118 -0.95294118 -0.95294118]]\n",
      "\n",
      " [[-1.         -1.         -1.        ]\n",
      "  [-1.         -1.         -1.        ]\n",
      "  [-1.         -1.         -1.        ]\n",
      "  ...\n",
      "  [-0.97647059 -0.97647059 -0.97647059]\n",
      "  [-0.96862745 -0.96862745 -0.96862745]\n",
      "  [-0.96078432 -0.96078432 -0.96078432]]]\n"
     ]
    },
    {
     "data": {
      "text/plain": [
       "<matplotlib.image.AxesImage at 0x213134234a8>"
      ]
     },
     "execution_count": 8,
     "metadata": {},
     "output_type": "execute_result"
    },
    {
     "data": {
      "image/png": "[encoded data removed]",
      "text/plain": [
       "<Figure size 432x288 with 1 Axes>"
      ]
     },
     "metadata": {
      "needs_background": "light"
     },
     "output_type": "display_data"
    }
   ],
   "source": [
    "from matplotlib import pyplot\n",
    "n = 10\n",
    "print(X_train[n])\n",
    "pyplot.imshow(X_train[n])"
   ]
  },
  {
   "cell_type": "code",
   "execution_count": 9,
   "metadata": {
    "colab": {
     "base_uri": "https://localhost:8080/",
     "height": 286
    },
    "colab_type": "code",
    "executionInfo": {
     "elapsed": 1226,
     "status": "ok",
     "timestamp": 1576220180359,
     "user": {
      "displayName": "Puneet Nanda",
      "photoUrl": "",
      "userId": "14574570001926496505"
     },
     "user_tz": -330
    },
    "id": "983gGKcwlSe8",
    "outputId": "3de78dd2-07a3-4562-bec9-2a4413e1913e"
   },
   "outputs": [
    {
     "data": {
      "text/plain": [
       "<matplotlib.image.AxesImage at 0x213134b9898>"
      ]
     },
     "execution_count": 9,
     "metadata": {},
     "output_type": "execute_result"
    },
    {
     "data": {
      "image/png": "[encoded data removed]",
      "text/plain": [
       "<Figure size 432x288 with 1 Axes>"
      ]
     },
     "metadata": {
      "needs_background": "light"
     },
     "output_type": "display_data"
    }
   ],
   "source": [
    "pyplot.imshow(masks[n])"
   ]
  },
  {
   "cell_type": "markdown",
   "metadata": {
    "colab_type": "text",
    "id": "Z0Qa1UOue9TE"
   },
   "source": [
    "## Create the model (10 marks)\n",
    "- Add MobileNet as model with below parameter values\n",
    "  - input_shape: IMAGE_HEIGHT, IMAGE_WIDTH, 3\n",
    "  - include_top: False\n",
    "  - alpha: 1.0\n",
    "  - weights: \"imagenet\"\n",
    "- Add UNET architecture layers\n",
    "  - This is the trickiest part of the project, you need to research and implement it correctly"
   ]
  },
  {
   "cell_type": "code",
   "execution_count": 10,
   "metadata": {
    "colab": {
     "base_uri": "https://localhost:8080/",
     "height": 62
    },
    "colab_type": "code",
    "executionInfo": {
     "elapsed": 2106,
     "status": "ok",
     "timestamp": 1576224142164,
     "user": {
      "displayName": "Puneet Nanda",
      "photoUrl": "",
      "userId": "14574570001926496505"
     },
     "user_tz": -330
    },
    "id": "BTVYOvANrUVx",
    "outputId": "5c94d853-63f8-4092-c85a-6723922a1e6f"
   },
   "outputs": [],
   "source": [
    "from tensorflow.keras.applications.mobilenet import MobileNet\n",
    "from tensorflow.keras.layers import Concatenate, UpSampling2D, Conv2D, Reshape\n",
    "from tensorflow.keras.models import Model\n",
    "from tensorflow.keras.layers import *\n",
    "from tensorflow.keras.optimizers import Adam\n",
    "\n",
    "def create_model(trainable=True):\n",
    "    model = MobileNet(input_shape=(IMAGE_HEIGHT,IMAGE_WIDTH,3),include_top=False,alpha=1.0,weights='imagenet')\n",
    "    for layer in model.layers:\n",
    "        layer.trainable = trainable\n",
    "\n",
    "    # Add all the UNET layers here\n",
    "    #### Add your code here ####\n",
    "    \n",
    "    block1 = model.get_layer(\"conv_pw_5_relu\").output\n",
    "    block2 = model.get_layer(\"conv_pw_11_relu\").output\n",
    "    block3 = model.get_layer(\"conv_pw_13_relu\").output\n",
    "\n",
    "    x = Concatenate()([UpSampling2D()(block3), block2])\n",
    "    x = Concatenate()([UpSampling2D()(x), block1])\n",
    "    \n",
    "    x = UpSampling2D()(x)\n",
    "    x = UpSampling2D()(x)\n",
    "    x = UpSampling2D()(x)\n",
    "    \n",
    "    x = Conv2D(1, kernel_size=1, activation=\"sigmoid\")(x)\n",
    "\n",
    "    x = Reshape((IMAGE_HEIGHT, IMAGE_WIDTH))(x)\n",
    "    \n",
    "    return Model(inputs=model.input, outputs=x) #### Add your code here ####"
   ]
  },
  {
   "cell_type": "markdown",
   "metadata": {
    "colab_type": "text",
    "id": "_snZ9o0ZBAiv"
   },
   "source": [
    "### Call the create_model function"
   ]
  },
  {
   "cell_type": "code",
   "execution_count": 11,
   "metadata": {
    "colab": {
     "base_uri": "https://localhost:8080/",
     "height": 330
    },
    "colab_type": "code",
    "executionInfo": {
     "elapsed": 2838,
     "status": "error",
     "timestamp": 1576224145651,
     "user": {
      "displayName": "Puneet Nanda",
      "photoUrl": "",
      "userId": "14574570001926496505"
     },
     "user_tz": -330
    },
    "id": "9TfSSP51uPoO",
    "outputId": "acaf682a-1cca-49f3-8439-f469f68f0f0b"
   },
   "outputs": [
    {
     "name": "stdout",
     "output_type": "stream",
     "text": [
      "Model: \"model\"\n",
      "__________________________________________________________________________________________________\n",
      "Layer (type)                    Output Shape         Param #     Connected to                     \n",
      "==================================================================================================\n",
      "input_1 (InputLayer)            [(None, 224, 224, 3) 0                                            \n",
      "__________________________________________________________________________________________________\n",
      "conv1_pad (ZeroPadding2D)       (None, 225, 225, 3)  0           input_1[0][0]                    \n",
      "__________________________________________________________________________________________________\n",
      "conv1 (Conv2D)                  (None, 112, 112, 32) 864         conv1_pad[0][0]                  \n",
      "__________________________________________________________________________________________________\n",
      "conv1_bn (BatchNormalization)   (None, 112, 112, 32) 128         conv1[0][0]                      \n",
      "__________________________________________________________________________________________________\n",
      "conv1_relu (ReLU)               (None, 112, 112, 32) 0           conv1_bn[0][0]                   \n",
      "__________________________________________________________________________________________________\n",
      "conv_dw_1 (DepthwiseConv2D)     (None, 112, 112, 32) 288         conv1_relu[0][0]                 \n",
      "__________________________________________________________________________________________________\n",
      "conv_dw_1_bn (BatchNormalizatio (None, 112, 112, 32) 128         conv_dw_1[0][0]                  \n",
      "__________________________________________________________________________________________________\n",
      "conv_dw_1_relu (ReLU)           (None, 112, 112, 32) 0           conv_dw_1_bn[0][0]               \n",
      "__________________________________________________________________________________________________\n",
      "conv_pw_1 (Conv2D)              (None, 112, 112, 64) 2048        conv_dw_1_relu[0][0]             \n",
      "__________________________________________________________________________________________________\n",
      "conv_pw_1_bn (BatchNormalizatio (None, 112, 112, 64) 256         conv_pw_1[0][0]                  \n",
      "__________________________________________________________________________________________________\n",
      "conv_pw_1_relu (ReLU)           (None, 112, 112, 64) 0           conv_pw_1_bn[0][0]               \n",
      "__________________________________________________________________________________________________\n",
      "conv_pad_2 (ZeroPadding2D)      (None, 113, 113, 64) 0           conv_pw_1_relu[0][0]             \n",
      "__________________________________________________________________________________________________\n",
      "conv_dw_2 (DepthwiseConv2D)     (None, 56, 56, 64)   576         conv_pad_2[0][0]                 \n",
      "__________________________________________________________________________________________________\n",
      "conv_dw_2_bn (BatchNormalizatio (None, 56, 56, 64)   256         conv_dw_2[0][0]                  \n",
      "__________________________________________________________________________________________________\n",
      "conv_dw_2_relu (ReLU)           (None, 56, 56, 64)   0           conv_dw_2_bn[0][0]               \n",
      "__________________________________________________________________________________________________\n",
      "conv_pw_2 (Conv2D)              (None, 56, 56, 128)  8192        conv_dw_2_relu[0][0]             \n",
      "__________________________________________________________________________________________________\n",
      "conv_pw_2_bn (BatchNormalizatio (None, 56, 56, 128)  512         conv_pw_2[0][0]                  \n",
      "__________________________________________________________________________________________________\n",
      "conv_pw_2_relu (ReLU)           (None, 56, 56, 128)  0           conv_pw_2_bn[0][0]               \n",
      "__________________________________________________________________________________________________\n",
      "conv_dw_3 (DepthwiseConv2D)     (None, 56, 56, 128)  1152        conv_pw_2_relu[0][0]             \n",
      "__________________________________________________________________________________________________\n",
      "conv_dw_3_bn (BatchNormalizatio (None, 56, 56, 128)  512         conv_dw_3[0][0]                  \n",
      "__________________________________________________________________________________________________\n",
      "conv_dw_3_relu (ReLU)           (None, 56, 56, 128)  0           conv_dw_3_bn[0][0]               \n",
      "__________________________________________________________________________________________________\n",
      "conv_pw_3 (Conv2D)              (None, 56, 56, 128)  16384       conv_dw_3_relu[0][0]             \n",
      "__________________________________________________________________________________________________\n",
      "conv_pw_3_bn (BatchNormalizatio (None, 56, 56, 128)  512         conv_pw_3[0][0]                  \n",
      "__________________________________________________________________________________________________\n",
      "conv_pw_3_relu (ReLU)           (None, 56, 56, 128)  0           conv_pw_3_bn[0][0]               \n",
      "__________________________________________________________________________________________________\n",
      "conv_pad_4 (ZeroPadding2D)      (None, 57, 57, 128)  0           conv_pw_3_relu[0][0]             \n",
      "__________________________________________________________________________________________________\n",
      "conv_dw_4 (DepthwiseConv2D)     (None, 28, 28, 128)  1152        conv_pad_4[0][0]                 \n",
      "__________________________________________________________________________________________________\n",
      "conv_dw_4_bn (BatchNormalizatio (None, 28, 28, 128)  512         conv_dw_4[0][0]                  \n",
      "__________________________________________________________________________________________________\n",
      "conv_dw_4_relu (ReLU)           (None, 28, 28, 128)  0           conv_dw_4_bn[0][0]               \n",
      "__________________________________________________________________________________________________\n",
      "conv_pw_4 (Conv2D)              (None, 28, 28, 256)  32768       conv_dw_4_relu[0][0]             \n",
      "__________________________________________________________________________________________________\n",
      "conv_pw_4_bn (BatchNormalizatio (None, 28, 28, 256)  1024        conv_pw_4[0][0]                  \n",
      "__________________________________________________________________________________________________\n",
      "conv_pw_4_relu (ReLU)           (None, 28, 28, 256)  0           conv_pw_4_bn[0][0]               \n",
      "__________________________________________________________________________________________________\n",
      "conv_dw_5 (DepthwiseConv2D)     (None, 28, 28, 256)  2304        conv_pw_4_relu[0][0]             \n",
      "__________________________________________________________________________________________________\n",
      "conv_dw_5_bn (BatchNormalizatio (None, 28, 28, 256)  1024        conv_dw_5[0][0]                  \n",
      "__________________________________________________________________________________________________\n",
      "conv_dw_5_relu (ReLU)           (None, 28, 28, 256)  0           conv_dw_5_bn[0][0]               \n",
      "__________________________________________________________________________________________________\n",
      "conv_pw_5 (Conv2D)              (None, 28, 28, 256)  65536       conv_dw_5_relu[0][0]             \n",
      "__________________________________________________________________________________________________\n",
      "conv_pw_5_bn (BatchNormalizatio (None, 28, 28, 256)  1024        conv_pw_5[0][0]                  \n",
      "__________________________________________________________________________________________________\n",
      "conv_pw_5_relu (ReLU)           (None, 28, 28, 256)  0           conv_pw_5_bn[0][0]               \n",
      "__________________________________________________________________________________________________\n",
      "conv_pad_6 (ZeroPadding2D)      (None, 29, 29, 256)  0           conv_pw_5_relu[0][0]             \n",
      "__________________________________________________________________________________________________\n",
      "conv_dw_6 (DepthwiseConv2D)     (None, 14, 14, 256)  2304        conv_pad_6[0][0]                 \n",
      "__________________________________________________________________________________________________\n",
      "conv_dw_6_bn (BatchNormalizatio (None, 14, 14, 256)  1024        conv_dw_6[0][0]                  \n",
      "__________________________________________________________________________________________________\n",
      "conv_dw_6_relu (ReLU)           (None, 14, 14, 256)  0           conv_dw_6_bn[0][0]               \n",
      "__________________________________________________________________________________________________\n",
      "conv_pw_6 (Conv2D)              (None, 14, 14, 512)  131072      conv_dw_6_relu[0][0]             \n",
      "__________________________________________________________________________________________________\n",
      "conv_pw_6_bn (BatchNormalizatio (None, 14, 14, 512)  2048        conv_pw_6[0][0]                  \n",
      "__________________________________________________________________________________________________\n",
      "conv_pw_6_relu (ReLU)           (None, 14, 14, 512)  0           conv_pw_6_bn[0][0]               \n",
      "__________________________________________________________________________________________________\n",
      "conv_dw_7 (DepthwiseConv2D)     (None, 14, 14, 512)  4608        conv_pw_6_relu[0][0]             \n",
      "__________________________________________________________________________________________________\n",
      "conv_dw_7_bn (BatchNormalizatio (None, 14, 14, 512)  2048        conv_dw_7[0][0]                  \n",
      "__________________________________________________________________________________________________\n",
      "conv_dw_7_relu (ReLU)           (None, 14, 14, 512)  0           conv_dw_7_bn[0][0]               \n",
      "__________________________________________________________________________________________________\n",
      "conv_pw_7 (Conv2D)              (None, 14, 14, 512)  262144      conv_dw_7_relu[0][0]             \n",
      "__________________________________________________________________________________________________\n",
      "conv_pw_7_bn (BatchNormalizatio (None, 14, 14, 512)  2048        conv_pw_7[0][0]                  \n",
      "__________________________________________________________________________________________________\n",
      "conv_pw_7_relu (ReLU)           (None, 14, 14, 512)  0           conv_pw_7_bn[0][0]               \n",
      "__________________________________________________________________________________________________\n",
      "conv_dw_8 (DepthwiseConv2D)     (None, 14, 14, 512)  4608        conv_pw_7_relu[0][0]             \n",
      "__________________________________________________________________________________________________\n",
      "conv_dw_8_bn (BatchNormalizatio (None, 14, 14, 512)  2048        conv_dw_8[0][0]                  \n",
      "__________________________________________________________________________________________________\n",
      "conv_dw_8_relu (ReLU)           (None, 14, 14, 512)  0           conv_dw_8_bn[0][0]               \n",
      "__________________________________________________________________________________________________\n",
      "conv_pw_8 (Conv2D)              (None, 14, 14, 512)  262144      conv_dw_8_relu[0][0]             \n",
      "__________________________________________________________________________________________________\n",
      "conv_pw_8_bn (BatchNormalizatio (None, 14, 14, 512)  2048        conv_pw_8[0][0]                  \n",
      "__________________________________________________________________________________________________\n",
      "conv_pw_8_relu (ReLU)           (None, 14, 14, 512)  0           conv_pw_8_bn[0][0]               \n",
      "__________________________________________________________________________________________________\n",
      "conv_dw_9 (DepthwiseConv2D)     (None, 14, 14, 512)  4608        conv_pw_8_relu[0][0]             \n",
      "__________________________________________________________________________________________________\n",
      "conv_dw_9_bn (BatchNormalizatio (None, 14, 14, 512)  2048        conv_dw_9[0][0]                  \n",
      "__________________________________________________________________________________________________\n",
      "conv_dw_9_relu (ReLU)           (None, 14, 14, 512)  0           conv_dw_9_bn[0][0]               \n",
      "__________________________________________________________________________________________________\n",
      "conv_pw_9 (Conv2D)              (None, 14, 14, 512)  262144      conv_dw_9_relu[0][0]             \n",
      "__________________________________________________________________________________________________\n",
      "conv_pw_9_bn (BatchNormalizatio (None, 14, 14, 512)  2048        conv_pw_9[0][0]                  \n",
      "__________________________________________________________________________________________________\n",
      "conv_pw_9_relu (ReLU)           (None, 14, 14, 512)  0           conv_pw_9_bn[0][0]               \n",
      "__________________________________________________________________________________________________\n",
      "conv_dw_10 (DepthwiseConv2D)    (None, 14, 14, 512)  4608        conv_pw_9_relu[0][0]             \n",
      "__________________________________________________________________________________________________\n",
      "conv_dw_10_bn (BatchNormalizati (None, 14, 14, 512)  2048        conv_dw_10[0][0]                 \n",
      "__________________________________________________________________________________________________\n",
      "conv_dw_10_relu (ReLU)          (None, 14, 14, 512)  0           conv_dw_10_bn[0][0]              \n",
      "__________________________________________________________________________________________________\n",
      "conv_pw_10 (Conv2D)             (None, 14, 14, 512)  262144      conv_dw_10_relu[0][0]            \n",
      "__________________________________________________________________________________________________\n",
      "conv_pw_10_bn (BatchNormalizati (None, 14, 14, 512)  2048        conv_pw_10[0][0]                 \n",
      "__________________________________________________________________________________________________\n",
      "conv_pw_10_relu (ReLU)          (None, 14, 14, 512)  0           conv_pw_10_bn[0][0]              \n",
      "__________________________________________________________________________________________________\n",
      "conv_dw_11 (DepthwiseConv2D)    (None, 14, 14, 512)  4608        conv_pw_10_relu[0][0]            \n",
      "__________________________________________________________________________________________________\n",
      "conv_dw_11_bn (BatchNormalizati (None, 14, 14, 512)  2048        conv_dw_11[0][0]                 \n",
      "__________________________________________________________________________________________________\n",
      "conv_dw_11_relu (ReLU)          (None, 14, 14, 512)  0           conv_dw_11_bn[0][0]              \n",
      "__________________________________________________________________________________________________\n",
      "conv_pw_11 (Conv2D)             (None, 14, 14, 512)  262144      conv_dw_11_relu[0][0]            \n",
      "__________________________________________________________________________________________________\n",
      "conv_pw_11_bn (BatchNormalizati (None, 14, 14, 512)  2048        conv_pw_11[0][0]                 \n",
      "__________________________________________________________________________________________________\n",
      "conv_pw_11_relu (ReLU)          (None, 14, 14, 512)  0           conv_pw_11_bn[0][0]              \n",
      "__________________________________________________________________________________________________\n",
      "conv_pad_12 (ZeroPadding2D)     (None, 15, 15, 512)  0           conv_pw_11_relu[0][0]            \n",
      "__________________________________________________________________________________________________\n",
      "conv_dw_12 (DepthwiseConv2D)    (None, 7, 7, 512)    4608        conv_pad_12[0][0]                \n",
      "__________________________________________________________________________________________________\n",
      "conv_dw_12_bn (BatchNormalizati (None, 7, 7, 512)    2048        conv_dw_12[0][0]                 \n",
      "__________________________________________________________________________________________________\n",
      "conv_dw_12_relu (ReLU)          (None, 7, 7, 512)    0           conv_dw_12_bn[0][0]              \n",
      "__________________________________________________________________________________________________\n",
      "conv_pw_12 (Conv2D)             (None, 7, 7, 1024)   524288      conv_dw_12_relu[0][0]            \n",
      "__________________________________________________________________________________________________\n",
      "conv_pw_12_bn (BatchNormalizati (None, 7, 7, 1024)   4096        conv_pw_12[0][0]                 \n",
      "__________________________________________________________________________________________________\n",
      "conv_pw_12_relu (ReLU)          (None, 7, 7, 1024)   0           conv_pw_12_bn[0][0]              \n",
      "__________________________________________________________________________________________________\n",
      "conv_dw_13 (DepthwiseConv2D)    (None, 7, 7, 1024)   9216        conv_pw_12_relu[0][0]            \n",
      "__________________________________________________________________________________________________\n",
      "conv_dw_13_bn (BatchNormalizati (None, 7, 7, 1024)   4096        conv_dw_13[0][0]                 \n",
      "__________________________________________________________________________________________________\n",
      "conv_dw_13_relu (ReLU)          (None, 7, 7, 1024)   0           conv_dw_13_bn[0][0]              \n",
      "__________________________________________________________________________________________________\n",
      "conv_pw_13 (Conv2D)             (None, 7, 7, 1024)   1048576     conv_dw_13_relu[0][0]            \n",
      "__________________________________________________________________________________________________\n",
      "conv_pw_13_bn (BatchNormalizati (None, 7, 7, 1024)   4096        conv_pw_13[0][0]                 \n",
      "__________________________________________________________________________________________________\n",
      "conv_pw_13_relu (ReLU)          (None, 7, 7, 1024)   0           conv_pw_13_bn[0][0]              \n",
      "__________________________________________________________________________________________________\n",
      "up_sampling2d (UpSampling2D)    (None, 14, 14, 1024) 0           conv_pw_13_relu[0][0]            \n",
      "__________________________________________________________________________________________________\n",
      "concatenate (Concatenate)       (None, 14, 14, 1536) 0           up_sampling2d[0][0]              \n",
      "                                                                 conv_pw_11_relu[0][0]            \n",
      "__________________________________________________________________________________________________\n",
      "up_sampling2d_1 (UpSampling2D)  (None, 28, 28, 1536) 0           concatenate[0][0]                \n",
      "__________________________________________________________________________________________________\n",
      "concatenate_1 (Concatenate)     (None, 28, 28, 1792) 0           up_sampling2d_1[0][0]            \n",
      "                                                                 conv_pw_5_relu[0][0]             \n",
      "__________________________________________________________________________________________________\n",
      "up_sampling2d_2 (UpSampling2D)  (None, 56, 56, 1792) 0           concatenate_1[0][0]              \n",
      "__________________________________________________________________________________________________\n",
      "up_sampling2d_3 (UpSampling2D)  (None, 112, 112, 179 0           up_sampling2d_2[0][0]            \n",
      "__________________________________________________________________________________________________\n",
      "up_sampling2d_4 (UpSampling2D)  (None, 224, 224, 179 0           up_sampling2d_3[0][0]            \n",
      "__________________________________________________________________________________________________\n",
      "conv2d (Conv2D)                 (None, 224, 224, 1)  1793        up_sampling2d_4[0][0]            \n",
      "__________________________________________________________________________________________________\n",
      "reshape (Reshape)               (None, 224, 224)     0           conv2d[0][0]                     \n",
      "==================================================================================================\n",
      "Total params: 3,230,657\n",
      "Trainable params: 1,793\n",
      "Non-trainable params: 3,228,864\n",
      "__________________________________________________________________________________________________\n"
     ]
    }
   ],
   "source": [
    "# Give trainable=False as argument, if you want to freeze lower layers for fast training (but low accuracy)\n",
    "model = create_model(trainable=False)\n",
    "\n",
    "# Print summary\n",
    "model.summary()"
   ]
  },
  {
   "cell_type": "markdown",
   "metadata": {
    "colab_type": "text",
    "id": "2spcE4TvfEZw"
   },
   "source": [
    "### Define dice coefficient function (5 marks)\n",
    "- Create a function to calculate dice coefficient"
   ]
  },
  {
   "cell_type": "code",
   "execution_count": 12,
   "metadata": {
    "colab": {},
    "colab_type": "code",
    "id": "8H8aViXZuWz1"
   },
   "outputs": [],
   "source": [
    "import tensorflow as tf\n",
    "\n",
    "def dice_coefficient(y_true, y_pred):\n",
    "    numerator = 2 * tf.reduce_sum(y_true * y_pred)\n",
    "    denominator = tf.reduce_sum(y_true + y_pred)\n",
    "\n",
    "    return numerator / (denominator + tf.keras.backend.epsilon())\n"
   ]
  },
  {
   "cell_type": "markdown",
   "metadata": {
    "colab_type": "text",
    "id": "Nkp5SDM1fIu2"
   },
   "source": [
    "### Define loss"
   ]
  },
  {
   "cell_type": "code",
   "execution_count": 13,
   "metadata": {
    "colab": {},
    "colab_type": "code",
    "id": "FEOVfs19KVLv"
   },
   "outputs": [],
   "source": [
    "from tensorflow.keras.losses import binary_crossentropy\n",
    "from tensorflow.keras.backend import log, epsilon\n",
    "def loss(y_true, y_pred):\n",
    "    return binary_crossentropy(y_true, y_pred) - log(dice_coefficient(y_true, y_pred) + epsilon())"
   ]
  },
  {
   "cell_type": "markdown",
   "metadata": {
    "colab_type": "text",
    "id": "Thltv_akfOMS"
   },
   "source": [
    "### Compile the model (2 marks)\n",
    "- Complie the model using below parameters\n",
    "  - loss: use the loss function defined above\n",
    "  - optimizers: use Adam optimizer\n",
    "  - metrics: use dice_coefficient function defined above"
   ]
  },
  {
   "cell_type": "code",
   "execution_count": 14,
   "metadata": {
    "colab": {},
    "colab_type": "code",
    "id": "atPb8xm2qkK5"
   },
   "outputs": [],
   "source": [
    "#### Add your code here ####\n",
    "optimizer = Adam(lr=1e-4, beta_1=0.9, beta_2=0.999, epsilon=None, decay=0.0, amsgrad=False)\n",
    "model.compile(loss=loss, optimizer=optimizer, metrics=[dice_coefficient])"
   ]
  },
  {
   "cell_type": "markdown",
   "metadata": {
    "colab_type": "text",
    "id": "VTumZyg0fuVy"
   },
   "source": [
    "### Define checkpoint and earlystopping"
   ]
  },
  {
   "cell_type": "code",
   "execution_count": 15,
   "metadata": {
    "colab": {
     "base_uri": "https://localhost:8080/",
     "height": 34
    },
    "colab_type": "code",
    "executionInfo": {
     "elapsed": 1975,
     "status": "ok",
     "timestamp": 1576220333356,
     "user": {
      "displayName": "Puneet Nanda",
      "photoUrl": "",
      "userId": "14574570001926496505"
     },
     "user_tz": -330
    },
    "id": "QNlQHt8DMy7h",
    "outputId": "e7b7f579-ff44-4229-e33a-1d7cba4d54d6"
   },
   "outputs": [
    {
     "name": "stdout",
     "output_type": "stream",
     "text": [
      "WARNING:tensorflow:`period` argument is deprecated. Please use `save_freq` to specify the frequency in number of samples seen.\n"
     ]
    }
   ],
   "source": [
    "from tensorflow.keras.callbacks import ModelCheckpoint, EarlyStopping, ReduceLROnPlateau\n",
    "checkpoint = ModelCheckpoint(\"model-{loss:.2f}.h5\", monitor=\"loss\", verbose=1, save_best_only=True,\n",
    "                             save_weights_only=True, mode=\"min\", period=1)\n",
    "stop = EarlyStopping(monitor=\"loss\", patience=5, mode=\"min\")\n",
    "reduce_lr = ReduceLROnPlateau(monitor=\"loss\", factor=0.2, patience=5, min_lr=1e-6, verbose=1, mode=\"min\")"
   ]
  },
  {
   "cell_type": "markdown",
   "metadata": {
    "colab_type": "text",
    "id": "LxxbwvXEf07e"
   },
   "source": [
    "### Fit the model (2 marks)\n",
    "- Fit the model using below parameters\n",
    "  - epochs: you can decide\n",
    "  - batch_size: 1\n",
    "  - callbacks: checkpoint, reduce_lr, stop"
   ]
  },
  {
   "cell_type": "code",
   "execution_count": 16,
   "metadata": {
    "colab": {
     "base_uri": "https://localhost:8080/",
     "height": 525
    },
    "colab_type": "code",
    "executionInfo": {
     "elapsed": 7450,
     "status": "error",
     "timestamp": 1576220346424,
     "user": {
      "displayName": "Puneet Nanda",
      "photoUrl": "",
      "userId": "14574570001926496505"
     },
     "user_tz": -330
    },
    "id": "guFfKsEmq58j",
    "outputId": "65b24ebc-930c-4524-d29c-7034bb712d1d"
   },
   "outputs": [
    {
     "name": "stdout",
     "output_type": "stream",
     "text": [
      "Train on 327 samples, validate on 82 samples\n",
      "Epoch 1/50\n",
      "325/327 [============================>.] - ETA: 0s - loss: 2.0477 - dice_coefficient: 0.2615\n",
      "Epoch 00001: loss improved from inf to 2.04302, saving model to model-2.04.h5\n",
      "327/327 [==============================] - 18s 55ms/sample - loss: 2.0430 - dice_coefficient: 0.2623 - val_loss: 1.5748 - val_dice_coefficient: 0.3514\n",
      "Epoch 2/50\n",
      "325/327 [============================>.] - ETA: 0s - loss: 1.5209 - dice_coefficient: 0.3622\n",
      "Epoch 00002: loss improved from 2.04302 to 1.51690, saving model to model-1.52.h5\n",
      "327/327 [==============================] - 14s 41ms/sample - loss: 1.5169 - dice_coefficient: 0.3633 - val_loss: 1.4339 - val_dice_coefficient: 0.4031\n",
      "Epoch 3/50\n",
      "325/327 [============================>.] - ETA: 0s - loss: 1.3390 - dice_coefficient: 0.4132\n",
      "Epoch 00003: loss improved from 1.51690 to 1.34942, saving model to model-1.35.h5\n",
      "327/327 [==============================] - 14s 42ms/sample - loss: 1.3494 - dice_coefficient: 0.4112 - val_loss: 1.3423 - val_dice_coefficient: 0.4312\n",
      "Epoch 4/50\n",
      "325/327 [============================>.] - ETA: 0s - loss: 1.2587 - dice_coefficient: 0.4416\n",
      "Epoch 00004: loss improved from 1.34942 to 1.26086, saving model to model-1.26.h5\n",
      "327/327 [==============================] - 14s 42ms/sample - loss: 1.2609 - dice_coefficient: 0.4406 - val_loss: 1.2864 - val_dice_coefficient: 0.4493\n",
      "Epoch 5/50\n",
      "325/327 [============================>.] - ETA: 0s - loss: 1.2116 - dice_coefficient: 0.4574\n",
      "Epoch 00005: loss improved from 1.26086 to 1.21010, saving model to model-1.21.h5\n",
      "327/327 [==============================] - 14s 42ms/sample - loss: 1.2101 - dice_coefficient: 0.4581 - val_loss: 1.1680 - val_dice_coefficient: 0.4741\n",
      "Epoch 6/50\n",
      "325/327 [============================>.] - ETA: 0s - loss: 1.1700 - dice_coefficient: 0.4740\n",
      "Epoch 00006: loss improved from 1.21010 to 1.16895, saving model to model-1.17.h5\n",
      "327/327 [==============================] - 14s 42ms/sample - loss: 1.1690 - dice_coefficient: 0.4739 - val_loss: 1.1041 - val_dice_coefficient: 0.4903\n",
      "Epoch 7/50\n",
      "325/327 [============================>.] - ETA: 0s - loss: 1.1361 - dice_coefficient: 0.4854\n",
      "Epoch 00007: loss improved from 1.16895 to 1.13485, saving model to model-1.13.h5\n",
      "327/327 [==============================] - 14s 42ms/sample - loss: 1.1349 - dice_coefficient: 0.4855 - val_loss: 1.0362 - val_dice_coefficient: 0.5065\n",
      "Epoch 8/50\n",
      "325/327 [============================>.] - ETA: 0s - loss: 1.1139 - dice_coefficient: 0.4942\n",
      "Epoch 00008: loss improved from 1.13485 to 1.11446, saving model to model-1.11.h5\n",
      "327/327 [==============================] - 14s 42ms/sample - loss: 1.1145 - dice_coefficient: 0.4939 - val_loss: 1.0708 - val_dice_coefficient: 0.5044\n",
      "Epoch 9/50\n",
      "325/327 [============================>.] - ETA: 0s - loss: 1.0905 - dice_coefficient: 0.5037\n",
      "Epoch 00009: loss improved from 1.11446 to 1.09199, saving model to model-1.09.h5\n",
      "327/327 [==============================] - 14s 42ms/sample - loss: 1.0920 - dice_coefficient: 0.5027 - val_loss: 0.9682 - val_dice_coefficient: 0.5257\n",
      "Epoch 10/50\n",
      "325/327 [============================>.] - ETA: 0s - loss: 1.0768 - dice_coefficient: 0.5082\n",
      "Epoch 00010: loss improved from 1.09199 to 1.07710, saving model to model-1.08.h5\n",
      "327/327 [==============================] - 14s 42ms/sample - loss: 1.0771 - dice_coefficient: 0.5082 - val_loss: 1.0131 - val_dice_coefficient: 0.5203\n",
      "Epoch 11/50\n",
      "325/327 [============================>.] - ETA: 0s - loss: 1.0668 - dice_coefficient: 0.5140\n",
      "Epoch 00011: loss improved from 1.07710 to 1.06426, saving model to model-1.06.h5\n",
      "327/327 [==============================] - 14s 42ms/sample - loss: 1.0643 - dice_coefficient: 0.5146 - val_loss: 1.0367 - val_dice_coefficient: 0.5178\n",
      "Epoch 12/50\n",
      "325/327 [============================>.] - ETA: 0s - loss: 1.0474 - dice_coefficient: 0.5197\n",
      "Epoch 00012: loss improved from 1.06426 to 1.04589, saving model to model-1.05.h5\n",
      "327/327 [==============================] - 14s 42ms/sample - loss: 1.0459 - dice_coefficient: 0.5196 - val_loss: 0.9289 - val_dice_coefficient: 0.5394\n",
      "Epoch 13/50\n",
      "325/327 [============================>.] - ETA: 0s - loss: 1.0426 - dice_coefficient: 0.5218\n",
      "Epoch 00013: loss improved from 1.04589 to 1.04330, saving model to model-1.04.h5\n",
      "327/327 [==============================] - 14s 43ms/sample - loss: 1.0433 - dice_coefficient: 0.5221 - val_loss: 0.9600 - val_dice_coefficient: 0.5355\n",
      "Epoch 14/50\n",
      "325/327 [============================>.] - ETA: 0s - loss: 1.0295 - dice_coefficient: 0.5264\n",
      "Epoch 00014: loss improved from 1.04330 to 1.03063, saving model to model-1.03.h5\n",
      "327/327 [==============================] - 14s 43ms/sample - loss: 1.0306 - dice_coefficient: 0.5264 - val_loss: 0.9652 - val_dice_coefficient: 0.5360\n",
      "Epoch 15/50\n",
      "325/327 [============================>.] - ETA: 0s - loss: 1.0225 - dice_coefficient: 0.5292\n",
      "Epoch 00015: loss improved from 1.03063 to 1.02270, saving model to model-1.02.h5\n",
      "327/327 [==============================] - 14s 43ms/sample - loss: 1.0227 - dice_coefficient: 0.5293 - val_loss: 0.9722 - val_dice_coefficient: 0.5359\n",
      "Epoch 16/50\n",
      "325/327 [============================>.] - ETA: 0s - loss: 1.0120 - dice_coefficient: 0.5337\n",
      "Epoch 00016: loss improved from 1.02270 to 1.01040, saving model to model-1.01.h5\n",
      "327/327 [==============================] - 14s 43ms/sample - loss: 1.0104 - dice_coefficient: 0.5339 - val_loss: 0.9891 - val_dice_coefficient: 0.5333\n",
      "Epoch 17/50\n",
      "325/327 [============================>.] - ETA: 0s - loss: 1.0071 - dice_coefficient: 0.5363\n",
      "Epoch 00017: loss improved from 1.01040 to 1.00613, saving model to model-1.01.h5\n",
      "327/327 [==============================] - 14s 43ms/sample - loss: 1.0061 - dice_coefficient: 0.5368 - val_loss: 0.9297 - val_dice_coefficient: 0.5455\n",
      "Epoch 18/50\n",
      "325/327 [============================>.] - ETA: 0s - loss: 0.9964 - dice_coefficient: 0.5394\n",
      "Epoch 00018: loss improved from 1.00613 to 0.99646, saving model to model-1.00.h5\n",
      "327/327 [==============================] - 14s 43ms/sample - loss: 0.9965 - dice_coefficient: 0.5391 - val_loss: 0.9262 - val_dice_coefficient: 0.5469\n",
      "Epoch 19/50\n",
      "326/327 [============================>.] - ETA: 0s - loss: 0.9894 - dice_coefficient: 0.5411\n",
      "Epoch 00019: loss improved from 0.99646 to 0.98849, saving model to model-0.99.h5\n",
      "327/327 [==============================] - 14s 43ms/sample - loss: 0.9885 - dice_coefficient: 0.5414 - val_loss: 0.9642 - val_dice_coefficient: 0.5404\n",
      "Epoch 20/50\n",
      "325/327 [============================>.] - ETA: 0s - loss: 0.9856 - dice_coefficient: 0.5431\n",
      "Epoch 00020: loss improved from 0.98849 to 0.98530, saving model to model-0.99.h5\n",
      "327/327 [==============================] - 14s 42ms/sample - loss: 0.9853 - dice_coefficient: 0.5428 - val_loss: 0.9395 - val_dice_coefficient: 0.5455\n",
      "Epoch 21/50\n",
      "325/327 [============================>.] - ETA: 0s - loss: 0.9763 - dice_coefficient: 0.5459\n",
      "Epoch 00021: loss improved from 0.98530 to 0.97644, saving model to model-0.98.h5\n",
      "327/327 [==============================] - 14s 42ms/sample - loss: 0.9764 - dice_coefficient: 0.5456 - val_loss: 0.9572 - val_dice_coefficient: 0.5424\n",
      "Epoch 22/50\n",
      "325/327 [============================>.] - ETA: 0s - loss: 0.9735 - dice_coefficient: 0.5470\n",
      "Epoch 00022: loss improved from 0.97644 to 0.97203, saving model to model-0.97.h5\n",
      "327/327 [==============================] - 14s 42ms/sample - loss: 0.9720 - dice_coefficient: 0.5474 - val_loss: 0.9994 - val_dice_coefficient: 0.5348\n",
      "Epoch 23/50\n",
      "325/327 [============================>.] - ETA: 0s - loss: 0.9725 - dice_coefficient: 0.5484\n",
      "Epoch 00023: loss did not improve from 0.97203\n",
      "327/327 [==============================] - 14s 42ms/sample - loss: 0.9722 - dice_coefficient: 0.5482 - val_loss: 0.9210 - val_dice_coefficient: 0.5504\n",
      "Epoch 24/50\n",
      "325/327 [============================>.] - ETA: 0s - loss: 0.9604 - dice_coefficient: 0.5501\n",
      "Epoch 00024: loss improved from 0.97203 to 0.96406, saving model to model-0.96.h5\n",
      "327/327 [==============================] - 14s 42ms/sample - loss: 0.9641 - dice_coefficient: 0.5504 - val_loss: 0.8851 - val_dice_coefficient: 0.5564\n",
      "Epoch 25/50\n",
      "325/327 [============================>.] - ETA: 0s - loss: 0.9579 - dice_coefficient: 0.5524\n",
      "Epoch 00025: loss improved from 0.96406 to 0.95667, saving model to model-0.96.h5\n",
      "327/327 [==============================] - 14s 42ms/sample - loss: 0.9567 - dice_coefficient: 0.5525 - val_loss: 0.8839 - val_dice_coefficient: 0.5569\n",
      "Epoch 26/50\n",
      "325/327 [============================>.] - ETA: 0s - loss: 0.9576 - dice_coefficient: 0.5530\n",
      "Epoch 00026: loss improved from 0.95667 to 0.95660, saving model to model-0.96.h5\n",
      "327/327 [==============================] - 14s 43ms/sample - loss: 0.9566 - dice_coefficient: 0.5534 - val_loss: 0.9456 - val_dice_coefficient: 0.5464\n",
      "Epoch 27/50\n",
      "325/327 [============================>.] - ETA: 0s - loss: 0.9452 - dice_coefficient: 0.5552\n",
      "Epoch 00027: loss improved from 0.95660 to 0.95146, saving model to model-0.95.h5\n",
      "327/327 [==============================] - 14s 43ms/sample - loss: 0.9515 - dice_coefficient: 0.5548 - val_loss: 0.9019 - val_dice_coefficient: 0.5547\n",
      "Epoch 28/50\n",
      "325/327 [============================>.] - ETA: 0s - loss: 0.9484 - dice_coefficient: 0.5557\n",
      "Epoch 00028: loss improved from 0.95146 to 0.94727, saving model to model-0.95.h5\n",
      "327/327 [==============================] - 14s 42ms/sample - loss: 0.9473 - dice_coefficient: 0.5560 - val_loss: 0.9246 - val_dice_coefficient: 0.5508\n",
      "Epoch 29/50\n",
      "326/327 [============================>.] - ETA: 0s - loss: 0.9448 - dice_coefficient: 0.5573\n",
      "Epoch 00029: loss improved from 0.94727 to 0.94456, saving model to model-0.94.h5\n",
      "327/327 [==============================] - 14s 43ms/sample - loss: 0.9446 - dice_coefficient: 0.5574 - val_loss: 0.9314 - val_dice_coefficient: 0.5496\n",
      "Epoch 30/50\n",
      "325/327 [============================>.] - ETA: 0s - loss: 0.9409 - dice_coefficient: 0.5582\n",
      "Epoch 00030: loss improved from 0.94456 to 0.94224, saving model to model-0.94.h5\n",
      "327/327 [==============================] - 14s 43ms/sample - loss: 0.9422 - dice_coefficient: 0.5580 - val_loss: 0.9621 - val_dice_coefficient: 0.5439\n",
      "Epoch 31/50\n",
      "325/327 [============================>.] - ETA: 0s - loss: 0.9405 - dice_coefficient: 0.5591\n",
      "Epoch 00031: loss improved from 0.94224 to 0.94022, saving model to model-0.94.h5\n",
      "327/327 [==============================] - 14s 42ms/sample - loss: 0.9402 - dice_coefficient: 0.5586 - val_loss: 0.9163 - val_dice_coefficient: 0.5528\n",
      "Epoch 32/50\n",
      "325/327 [============================>.] - ETA: 0s - loss: 0.9401 - dice_coefficient: 0.5595\n",
      "Epoch 00032: loss improved from 0.94022 to 0.93806, saving model to model-0.94.h5\n",
      "327/327 [==============================] - 14s 42ms/sample - loss: 0.9381 - dice_coefficient: 0.5598 - val_loss: 0.8934 - val_dice_coefficient: 0.5567\n",
      "Epoch 33/50\n",
      "325/327 [============================>.] - ETA: 0s - loss: 0.9337 - dice_coefficient: 0.5600\n",
      "Epoch 00033: loss improved from 0.93806 to 0.93407, saving model to model-0.93.h5\n",
      "327/327 [==============================] - 14s 43ms/sample - loss: 0.9341 - dice_coefficient: 0.5603 - val_loss: 0.8986 - val_dice_coefficient: 0.5561\n",
      "Epoch 34/50\n",
      "325/327 [============================>.] - ETA: 0s - loss: 0.9245 - dice_coefficient: 0.5648\n",
      "Epoch 00034: loss improved from 0.93407 to 0.92883, saving model to model-0.93.h5\n",
      "327/327 [==============================] - 14s 43ms/sample - loss: 0.9288 - dice_coefficient: 0.5628 - val_loss: 0.9144 - val_dice_coefficient: 0.5536\n",
      "Epoch 35/50\n",
      "326/327 [============================>.] - ETA: 0s - loss: 0.9270 - dice_coefficient: 0.5629\n",
      "Epoch 00035: loss improved from 0.92883 to 0.92635, saving model to model-0.93.h5\n",
      "327/327 [==============================] - 14s 43ms/sample - loss: 0.9264 - dice_coefficient: 0.5630 - val_loss: 0.9114 - val_dice_coefficient: 0.5545\n",
      "Epoch 36/50\n",
      "325/327 [============================>.] - ETA: 0s - loss: 0.9251 - dice_coefficient: 0.5642\n",
      "Epoch 00036: loss improved from 0.92635 to 0.92454, saving model to model-0.92.h5\n",
      "327/327 [==============================] - 14s 42ms/sample - loss: 0.9245 - dice_coefficient: 0.5642 - val_loss: 0.9455 - val_dice_coefficient: 0.5479\n",
      "Epoch 37/50\n",
      "325/327 [============================>.] - ETA: 0s - loss: 0.9267 - dice_coefficient: 0.5637\n",
      "Epoch 00037: loss did not improve from 0.92454\n",
      "327/327 [==============================] - 14s 42ms/sample - loss: 0.9252 - dice_coefficient: 0.5639 - val_loss: 0.8961 - val_dice_coefficient: 0.5569\n",
      "Epoch 38/50\n",
      "325/327 [============================>.] - ETA: 0s - loss: 0.9230 - dice_coefficient: 0.5646\n",
      "Epoch 00038: loss improved from 0.92454 to 0.92063, saving model to model-0.92.h5\n",
      "327/327 [==============================] - 14s 42ms/sample - loss: 0.9206 - dice_coefficient: 0.5657 - val_loss: 0.9318 - val_dice_coefficient: 0.5506\n",
      "Epoch 39/50\n",
      "325/327 [============================>.] - ETA: 0s - loss: 0.9163 - dice_coefficient: 0.5667\n",
      "Epoch 00039: loss improved from 0.92063 to 0.91626, saving model to model-0.92.h5\n",
      "327/327 [==============================] - 14s 42ms/sample - loss: 0.9163 - dice_coefficient: 0.5673 - val_loss: 0.8974 - val_dice_coefficient: 0.5568\n",
      "Epoch 40/50\n",
      "325/327 [============================>.] - ETA: 0s - loss: 0.9157 - dice_coefficient: 0.5680\n",
      "Epoch 00040: loss improved from 0.91626 to 0.91546, saving model to model-0.92.h5\n",
      "327/327 [==============================] - 14s 42ms/sample - loss: 0.9155 - dice_coefficient: 0.5679 - val_loss: 0.9405 - val_dice_coefficient: 0.5489\n",
      "Epoch 41/50\n",
      "325/327 [============================>.] - ETA: 0s - loss: 0.9117 - dice_coefficient: 0.5687\n",
      "Epoch 00041: loss improved from 0.91546 to 0.91120, saving model to model-0.91.h5\n",
      "327/327 [==============================] - 14s 42ms/sample - loss: 0.9112 - dice_coefficient: 0.5692 - val_loss: 1.0303 - val_dice_coefficient: 0.5321\n",
      "Epoch 42/50\n",
      "325/327 [============================>.] - ETA: 0s - loss: 0.9138 - dice_coefficient: 0.5695\n",
      "Epoch 00042: loss did not improve from 0.91120\n",
      "327/327 [==============================] - 14s 41ms/sample - loss: 0.9133 - dice_coefficient: 0.5694 - val_loss: 0.9120 - val_dice_coefficient: 0.5545\n",
      "Epoch 43/50\n",
      "325/327 [============================>.] - ETA: 0s - loss: 0.9060 - dice_coefficient: 0.5716\n",
      "Epoch 00043: loss improved from 0.91120 to 0.90771, saving model to model-0.91.h5\n",
      "327/327 [==============================] - 14s 42ms/sample - loss: 0.9077 - dice_coefficient: 0.5706 - val_loss: 0.8833 - val_dice_coefficient: 0.5586\n",
      "Epoch 44/50\n",
      "325/327 [============================>.] - ETA: 0s - loss: 0.9068 - dice_coefficient: 0.5715\n",
      "Epoch 00044: loss improved from 0.90771 to 0.90478, saving model to model-0.90.h5\n",
      "327/327 [==============================] - 14s 42ms/sample - loss: 0.9048 - dice_coefficient: 0.5720 - val_loss: 0.9119 - val_dice_coefficient: 0.5547\n",
      "Epoch 45/50\n",
      "325/327 [============================>.] - ETA: 0s - loss: 0.9078 - dice_coefficient: 0.5708\n",
      "Epoch 00045: loss did not improve from 0.90478\n",
      "327/327 [==============================] - 14s 42ms/sample - loss: 0.9061 - dice_coefficient: 0.5715 - val_loss: 0.9460 - val_dice_coefficient: 0.5487\n",
      "Epoch 46/50\n",
      "325/327 [============================>.] - ETA: 0s - loss: 0.9050 - dice_coefficient: 0.5727\n",
      "Epoch 00046: loss did not improve from 0.90478\n",
      "327/327 [==============================] - 14s 41ms/sample - loss: 0.9049 - dice_coefficient: 0.5721 - val_loss: 0.9064 - val_dice_coefficient: 0.5557\n",
      "Epoch 47/50\n",
      "325/327 [============================>.] - ETA: 0s - loss: 0.9059 - dice_coefficient: 0.5722\n",
      "Epoch 00047: loss did not improve from 0.90478\n",
      "327/327 [==============================] - 14s 42ms/sample - loss: 0.9050 - dice_coefficient: 0.5721 - val_loss: 0.9018 - val_dice_coefficient: 0.5565\n",
      "Epoch 48/50\n",
      "325/327 [============================>.] - ETA: 0s - loss: 0.9100 - dice_coefficient: 0.5707\n",
      "Epoch 00048: loss did not improve from 0.90478\n",
      "327/327 [==============================] - 14s 42ms/sample - loss: 0.9079 - dice_coefficient: 0.5712 - val_loss: 0.9108 - val_dice_coefficient: 0.5552\n",
      "Epoch 49/50\n",
      "325/327 [============================>.] - ETA: 0s - loss: 0.8978 - dice_coefficient: 0.5742\n",
      "Epoch 00049: loss improved from 0.90478 to 0.89823, saving model to model-0.90.h5\n",
      "327/327 [==============================] - 14s 42ms/sample - loss: 0.8982 - dice_coefficient: 0.5741 - val_loss: 0.9193 - val_dice_coefficient: 0.5536\n"
     ]
    },
    {
     "name": "stdout",
     "output_type": "stream",
     "text": [
      "Epoch 50/50\n",
      "325/327 [============================>.] - ETA: 0s - loss: 0.8989 - dice_coefficient: 0.5742\n",
      "Epoch 00050: loss improved from 0.89823 to 0.89725, saving model to model-0.90.h5\n",
      "327/327 [==============================] - 14s 42ms/sample - loss: 0.8972 - dice_coefficient: 0.5747 - val_loss: 0.9056 - val_dice_coefficient: 0.5560\n"
     ]
    },
    {
     "data": {
      "text/plain": [
       "<tensorflow.python.keras.callbacks.History at 0x21460c2afd0>"
      ]
     },
     "execution_count": 16,
     "metadata": {},
     "output_type": "execute_result"
    }
   ],
   "source": [
    "#### Add your code here ####\n",
    "model.fit(X_train, masks,validation_split=0.2, batch_size=1, epochs=50, callbacks=[checkpoint, reduce_lr, stop])"
   ]
  },
  {
   "cell_type": "markdown",
   "metadata": {},
   "source": [
    "### Let's see how actually image shows up when imposing actual mask on it"
   ]
  },
  {
   "cell_type": "code",
   "execution_count": 19,
   "metadata": {},
   "outputs": [],
   "source": [
    "n = 10"
   ]
  },
  {
   "cell_type": "code",
   "execution_count": 20,
   "metadata": {},
   "outputs": [
    {
     "name": "stderr",
     "output_type": "stream",
     "text": [
      "Clipping input data to the valid range for imshow with RGB data ([0..1] for floats or [0..255] for integers).\n"
     ]
    },
    {
     "data": {
      "text/plain": [
       "<matplotlib.image.AxesImage at 0x213204112b0>"
      ]
     },
     "execution_count": 20,
     "metadata": {},
     "output_type": "execute_result"
    },
    {
     "data": {
      "image/png": "[encoded data removed]",
      "text/plain": [
       "<Figure size 432x288 with 1 Axes>"
      ]
     },
     "metadata": {
      "needs_background": "light"
     },
     "output_type": "display_data"
    }
   ],
   "source": [
    "img1 = X_train[n].copy()\n",
    "msk1 = masks[n].copy()\n",
    "\n",
    "msk1 = cv2.resize(msk1, (IMAGE_WIDTH,IMAGE_HEIGHT))\n",
    "\n",
    "image2 = img1\n",
    "image2[:,:,0] = msk1*img1[:,:,0]\n",
    "image2[:,:,1] = msk1*img1[:,:,1]\n",
    "image2[:,:,2] = msk1*img1[:,:,2]\n",
    "\n",
    "out_image = image2\n",
    "pyplot.imshow(out_image)"
   ]
  },
  {
   "cell_type": "markdown",
   "metadata": {
    "colab_type": "text",
    "id": "5VtnuzlOf4uL"
   },
   "source": [
    "### Get the predicted mask for a sample image   (3 marks)"
   ]
  },
  {
   "cell_type": "code",
   "execution_count": 21,
   "metadata": {},
   "outputs": [],
   "source": [
    "sample_image = X_train[n].copy()\n",
    "\n",
    "pred_mask = cv2.resize(1.0*(model.predict(x=np.array([sample_image]))[0] > 0.5), (IMAGE_WIDTH,IMAGE_HEIGHT))"
   ]
  },
  {
   "cell_type": "markdown",
   "metadata": {
    "colab_type": "text",
    "id": "fDIetz0HgA4R"
   },
   "source": [
    "### Impose the mask on the image (3 marks)"
   ]
  },
  {
   "cell_type": "code",
   "execution_count": 22,
   "metadata": {},
   "outputs": [
    {
     "name": "stderr",
     "output_type": "stream",
     "text": [
      "Clipping input data to the valid range for imshow with RGB data ([0..1] for floats or [0..255] for integers).\n"
     ]
    },
    {
     "data": {
      "text/plain": [
       "<matplotlib.image.AxesImage at 0x21488be8588>"
      ]
     },
     "execution_count": 22,
     "metadata": {},
     "output_type": "execute_result"
    },
    {
     "data": {
      "image/png": "[encoded data removed]",
      "text/plain": [
       "<Figure size 432x288 with 1 Axes>"
      ]
     },
     "metadata": {
      "needs_background": "light"
     },
     "output_type": "display_data"
    }
   ],
   "source": [
    "image2 = sample_image\n",
    "image2[:,:,0] = pred_mask*sample_image[:,:,0]\n",
    "image2[:,:,1] = pred_mask*sample_image[:,:,1]\n",
    "image2[:,:,2] = pred_mask*sample_image[:,:,2]\n",
    "\n",
    "out_image = image2\n",
    "\n",
    "pyplot.imshow(out_image)"
   ]
  },
  {
   "cell_type": "markdown",
   "metadata": {},
   "source": [
    "### Let's see in the image which is not part of this dataset"
   ]
  },
  {
   "cell_type": "code",
   "execution_count": 23,
   "metadata": {},
   "outputs": [
    {
     "data": {
      "text/plain": [
       "<matplotlib.image.AxesImage at 0x214895740f0>"
      ]
     },
     "execution_count": 23,
     "metadata": {},
     "output_type": "execute_result"
    },
    {
     "data": {
      "image/png": "[encoded data removed]",
      "text/plain": [
       "<Figure size 432x288 with 1 Axes>"
      ]
     },
     "metadata": {
      "needs_background": "light"
     },
     "output_type": "display_data"
    }
   ],
   "source": [
    "unscaled = cv2.imread('testimg.jpg')\n",
    "image = cv2.resize(unscaled, (IMAGE_WIDTH, IMAGE_HEIGHT))\n",
    "feat_scaled = preprocess_input(np.array(image, dtype=np.float32))\n",
    "\n",
    "pred_mask = cv2.resize(1.0*(model.predict(x=np.array([feat_scaled]))[0] > 0.5), (IMAGE_WIDTH,IMAGE_HEIGHT))\n",
    "\n",
    "image2 = image\n",
    "image2[:,:,0] = pred_mask*image[:,:,0]\n",
    "image2[:,:,1] = pred_mask*image[:,:,1]\n",
    "image2[:,:,2] = pred_mask*image[:,:,2]\n",
    "\n",
    "out_image = image2\n",
    "\n",
    "pyplot.imshow(out_image)"
   ]
  },
  {
   "cell_type": "markdown",
   "metadata": {},
   "source": [
    "#### Actual image was"
   ]
  },
  {
   "cell_type": "code",
   "execution_count": 24,
   "metadata": {},
   "outputs": [
    {
     "data": {
      "text/plain": [
       "<matplotlib.image.AxesImage at 0x214895c8908>"
      ]
     },
     "execution_count": 24,
     "metadata": {},
     "output_type": "execute_result"
    },
    {
     "data": {
      "image/png": "[encoded data removed]",
      "text/plain": [
       "<Figure size 432x288 with 1 Axes>"
      ]
     },
     "metadata": {
      "needs_background": "light"
     },
     "output_type": "display_data"
    }
   ],
   "source": [
    "pyplot.imshow(unscaled)"
   ]
  },
  {
   "cell_type": "code",
   "execution_count": null,
   "metadata": {},
   "outputs": [],
   "source": []
  }
 ],
 "metadata": {
  "accelerator": "GPU",
  "colab": {
   "collapsed_sections": [],
   "name": "Copy of Face_detection_Questions_Project_CV_AIML_Online.ipynb",
   "provenance": [
    {
     "file_id": "14FxjjJmRpTl-FG-Hxec37cKTLtLk9NtM",
     "timestamp": 1576224158713
    }
   ]
  },
  "kernelspec": {
   "display_name": "Python 3",
   "language": "python",
   "name": "python3"
  },
  "language_info": {
   "codemirror_mode": {
    "name": "ipython",
    "version": 3
   },
   "file_extension": ".py",
   "mimetype": "text/x-python",
   "name": "python",
   "nbconvert_exporter": "python",
   "pygments_lexer": "ipython3",
   "version": "3.6.8"
  }
 },
 "nbformat": 4,
 "nbformat_minor": 1
}
